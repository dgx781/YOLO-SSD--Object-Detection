{
 "cells": [
  {
   "cell_type": "code",
   "execution_count": 1,
   "id": "febc5573",
   "metadata": {},
   "outputs": [],
   "source": [
    "from ultralytics.models import fastsam\n",
    "model= fastsam.FastSAM(r'C:\\Users\\DIBYOJIT\\Downloads\\FastSAM-s.pt')"
   ]
  },
  {
   "cell_type": "code",
   "execution_count": 2,
   "id": "f8a64fea",
   "metadata": {},
   "outputs": [],
   "source": [
    "pred= model.predict(r'C:\\Users\\DIBYOJIT\\Downloads\\cats and dogs\\train\\images\\dog1.jpeg', save=True, conf=0.5, iou=0.1)"
   ]
  },
  {
   "cell_type": "code",
   "execution_count": 3,
   "id": "4790c7fc",
   "metadata": {},
   "outputs": [],
   "source": [
    "from ultralytics.data.annotator import auto_annotate\n",
    "auto_annotate(data=r'C:\\Users\\DIBYOJIT\\Downloads\\Drunk People Detection.v1i.yolov8\\train\\images', det_model=r'C:\\Users\\DIBYOJIT\\YOLOv8-object_detection\\detect\\train\\weights\\best.pt', sam_model=r'C:\\Users\\DIBYOJIT\\Downloads\\sam_b.pt')"
   ]
  },
  {
   "cell_type": "code",
   "execution_count": 4,
   "id": "97d6bac7",
   "metadata": {},
   "outputs": [],
   "source": [
    "from ultralytics.data.annotator import auto_annotate"
   ]
  },
  {
   "cell_type": "code",
   "execution_count": 5,
   "id": "273a0e4f",
   "metadata": {},
   "outputs": [
    {
     "name": "stdout",
     "output_type": "stream",
     "text": [
      "\n",
      "image 1/10 C:\\Users\\DIBYOJIT\\Downloads\\Drunk People Detection.v1i.yolov8\\valid\\images\\drunk_mp4-0008_jpg.rf.f8fa44346a5f3a94ef129c591b3f5479.jpg: 640x640 1 Naholi Sarkar, 1 Skybag, 1 Tushar Das, 1 coca cola, 699.0ms\n",
      "image 2/10 C:\\Users\\DIBYOJIT\\Downloads\\Drunk People Detection.v1i.yolov8\\valid\\images\\drunk_mp4-0011_jpg.rf.39031544c45c2be2c723db5b0b88a668.jpg: 640x640 1 Naholi Sarkar, 1 Tushar Das, 723.6ms\n",
      "image 3/10 C:\\Users\\DIBYOJIT\\Downloads\\Drunk People Detection.v1i.yolov8\\valid\\images\\drunk_mp4-0021_jpg.rf.f0b21fd430ed93a512211617e26e6b77.jpg: 640x640 1 Naholi Sarkar, 2 Tushar Dass, 1 coca cola, 715.3ms\n",
      "image 4/10 C:\\Users\\DIBYOJIT\\Downloads\\Drunk People Detection.v1i.yolov8\\valid\\images\\drunk_mp4-0029_jpg.rf.d7c9c4a5f738d92f6f7bf930d0ff0acc.jpg: 640x640 2 Tushar Dass, 707.6ms\n",
      "image 5/10 C:\\Users\\DIBYOJIT\\Downloads\\Drunk People Detection.v1i.yolov8\\valid\\images\\drunk_mp4-0033_jpg.rf.7f879e6234f6381cbc482e560078a315.jpg: 640x640 1 Naholi Sarkar, 1 Tushar Das, 727.3ms\n",
      "image 6/10 C:\\Users\\DIBYOJIT\\Downloads\\Drunk People Detection.v1i.yolov8\\valid\\images\\drunk_mp4-0039_jpg.rf.691767ba2ffbbf434b47bf579002dd48.jpg: 640x640 1 Skybag, 1 Tushar Das, 715.5ms\n",
      "image 7/10 C:\\Users\\DIBYOJIT\\Downloads\\Drunk People Detection.v1i.yolov8\\valid\\images\\drunk_mp4-0040_jpg.rf.48eb17cf74725314ca6ba36089f5f175.jpg: 640x640 1 Tushar Das, 711.2ms\n",
      "image 8/10 C:\\Users\\DIBYOJIT\\Downloads\\Drunk People Detection.v1i.yolov8\\valid\\images\\drunk_mp4-0052_jpg.rf.9543c095d6a4a0c4b2350d6ebc4904a5.jpg: 640x640 1 Tushar Das, 1 balti, 720.0ms\n",
      "image 9/10 C:\\Users\\DIBYOJIT\\Downloads\\Drunk People Detection.v1i.yolov8\\valid\\images\\drunk_mp4-0053_jpg.rf.7acdca8020097cc705f0ec59267bd892.jpg: 640x640 1 Tushar Das, 1 balti, 716.6ms\n",
      "image 10/10 C:\\Users\\DIBYOJIT\\Downloads\\Drunk People Detection.v1i.yolov8\\valid\\images\\drunk_mp4-0056_jpg.rf.f67ed8b3fdff7b00ee362dc27682579b.jpg: 640x640 1 Naholi Sarkar, 720.3ms\n",
      "Speed: 3.6ms preprocess, 715.6ms inference, 2.0ms postprocess per image at shape (1, 3, 640, 640)\n"
     ]
    }
   ],
   "source": [
    "auto_annotate(data=r'C:\\Users\\DIBYOJIT\\Downloads\\Drunk People Detection.v1i.yolov8\\valid\\images', det_model=r'C:\\Users\\DIBYOJIT\\YOLOv8-object_detection\\detect\\train\\weights\\best.pt', sam_model=r'C:\\Users\\DIBYOJIT\\Downloads\\sam_b.pt')"
   ]
  },
  {
   "cell_type": "code",
   "execution_count": 6,
   "id": "57806d5d",
   "metadata": {},
   "outputs": [],
   "source": [
    "from ultralytics import YOLO\n",
    "yolo= YOLO(r'C:\\Users\\DIBYOJIT\\Downloads\\yolov8m-seg.pt')"
   ]
  },
  {
   "cell_type": "code",
   "execution_count": null,
   "id": "c63a756c",
   "metadata": {},
   "outputs": [
    {
     "name": "stdout",
     "output_type": "stream",
     "text": [
      "New https://pypi.org/project/ultralytics/8.1.34 available 😃 Update with 'pip install -U ultralytics'\n",
      "Ultralytics YOLOv8.1.30 🚀 Python-3.9.17 torch-2.0.1+cpu CPU (AMD Ryzen 5 5500U with Radeon Graphics)\n",
      "\u001b[34m\u001b[1mengine\\trainer: \u001b[0mtask=segment, mode=train, model=C:\\Users\\DIBYOJIT\\Downloads\\yolov8m-seg.pt, data=C:\\Users\\DIBYOJIT\\Downloads\\Drunk People Detection.v1i.yolov8\\data.yaml, epochs=10, time=None, patience=100, batch=16, imgsz=640, save=True, save_period=-1, cache=False, device=None, workers=8, project=None, name=train4, exist_ok=False, pretrained=True, optimizer=auto, verbose=True, seed=0, deterministic=True, single_cls=False, rect=False, cos_lr=False, close_mosaic=10, resume=False, amp=True, fraction=1.0, profile=False, freeze=None, multi_scale=False, overlap_mask=True, mask_ratio=4, dropout=0.0, val=True, split=val, save_json=False, save_hybrid=False, conf=None, iou=0.7, max_det=300, half=False, dnn=False, plots=True, source=None, vid_stride=1, stream_buffer=False, visualize=False, augment=False, agnostic_nms=False, classes=None, retina_masks=False, embed=None, show=False, save_frames=False, save_txt=False, save_conf=False, save_crop=False, show_labels=True, show_conf=True, show_boxes=True, line_width=None, format=torchscript, keras=False, optimize=False, int8=False, dynamic=False, simplify=False, opset=None, workspace=4, nms=False, lr0=0.01, lrf=0.01, momentum=0.937, weight_decay=0.0005, warmup_epochs=3.0, warmup_momentum=0.8, warmup_bias_lr=0.1, box=7.5, cls=0.5, dfl=1.5, pose=12.0, kobj=1.0, label_smoothing=0.0, nbs=64, hsv_h=0.015, hsv_s=0.7, hsv_v=0.4, degrees=0.0, translate=0.1, scale=0.5, shear=0.0, perspective=0.0, flipud=0.0, fliplr=0.5, mosaic=1.0, mixup=0.0, copy_paste=0.0, auto_augment=randaugment, erasing=0.4, crop_fraction=1.0, cfg=None, tracker=botsort.yaml, save_dir=C:\\Users\\DIBYOJIT\\YOLOv8-object_detection\\segment\\train4\n",
      "Overriding model.yaml nc=80 with nc=6\n",
      "\n",
      "                   from  n    params  module                                       arguments                     \n",
      "  0                  -1  1      1392  ultralytics.nn.modules.conv.Conv             [3, 48, 3, 2]                 \n",
      "  1                  -1  1     41664  ultralytics.nn.modules.conv.Conv             [48, 96, 3, 2]                \n",
      "  2                  -1  2    111360  ultralytics.nn.modules.block.C2f             [96, 96, 2, True]             \n",
      "  3                  -1  1    166272  ultralytics.nn.modules.conv.Conv             [96, 192, 3, 2]               \n",
      "  4                  -1  4    813312  ultralytics.nn.modules.block.C2f             [192, 192, 4, True]           \n",
      "  5                  -1  1    664320  ultralytics.nn.modules.conv.Conv             [192, 384, 3, 2]              \n",
      "  6                  -1  4   3248640  ultralytics.nn.modules.block.C2f             [384, 384, 4, True]           \n",
      "  7                  -1  1   1991808  ultralytics.nn.modules.conv.Conv             [384, 576, 3, 2]              \n",
      "  8                  -1  2   3985920  ultralytics.nn.modules.block.C2f             [576, 576, 2, True]           \n",
      "  9                  -1  1    831168  ultralytics.nn.modules.block.SPPF            [576, 576, 5]                 \n",
      " 10                  -1  1         0  torch.nn.modules.upsampling.Upsample         [None, 2, 'nearest']          \n",
      " 11             [-1, 6]  1         0  ultralytics.nn.modules.conv.Concat           [1]                           \n",
      " 12                  -1  2   1993728  ultralytics.nn.modules.block.C2f             [960, 384, 2]                 \n",
      " 13                  -1  1         0  torch.nn.modules.upsampling.Upsample         [None, 2, 'nearest']          \n",
      " 14             [-1, 4]  1         0  ultralytics.nn.modules.conv.Concat           [1]                           \n",
      " 15                  -1  2    517632  ultralytics.nn.modules.block.C2f             [576, 192, 2]                 \n",
      " 16                  -1  1    332160  ultralytics.nn.modules.conv.Conv             [192, 192, 3, 2]              \n",
      " 17            [-1, 12]  1         0  ultralytics.nn.modules.conv.Concat           [1]                           \n",
      " 18                  -1  2   1846272  ultralytics.nn.modules.block.C2f             [576, 384, 2]                 \n",
      " 19                  -1  1   1327872  ultralytics.nn.modules.conv.Conv             [384, 384, 3, 2]              \n",
      " 20             [-1, 9]  1         0  ultralytics.nn.modules.conv.Concat           [1]                           \n",
      " 21                  -1  2   4207104  ultralytics.nn.modules.block.C2f             [960, 576, 2]                 \n",
      " 22        [15, 18, 21]  1   5162498  ultralytics.nn.modules.head.Segment          [6, 32, 192, [192, 384, 576]] \n",
      "YOLOv8m-seg summary: 331 layers, 27243122 parameters, 27243106 gradients, 110.4 GFLOPs\n",
      "\n",
      "Transferred 531/537 items from pretrained weights\n",
      "\u001b[34m\u001b[1mTensorBoard: \u001b[0mStart with 'tensorboard --logdir C:\\Users\\DIBYOJIT\\YOLOv8-object_detection\\segment\\train4', view at http://localhost:6006/\n",
      "Freezing layer 'model.22.dfl.conv.weight'\n"
     ]
    },
    {
     "name": "stderr",
     "output_type": "stream",
     "text": [
      "\u001b[34m\u001b[1mtrain: \u001b[0mScanning C:\\Users\\DIBYOJIT\\Downloads\\Drunk People Detection.v1i.yolov8\\train\\labels... 40 images, 0 backgrounds,\u001b[0m"
     ]
    },
    {
     "name": "stdout",
     "output_type": "stream",
     "text": [
      "\u001b[34m\u001b[1mtrain: \u001b[0mNew cache created: C:\\Users\\DIBYOJIT\\Downloads\\Drunk People Detection.v1i.yolov8\\train\\labels.cache\n"
     ]
    },
    {
     "name": "stderr",
     "output_type": "stream",
     "text": [
      "\n",
      "\u001b[34m\u001b[1mval: \u001b[0mScanning C:\\Users\\DIBYOJIT\\Downloads\\Drunk People Detection.v1i.yolov8\\valid\\labels... 10 images, 0 backgrounds, 0\u001b[0m"
     ]
    },
    {
     "name": "stdout",
     "output_type": "stream",
     "text": [
      "\u001b[34m\u001b[1mval: \u001b[0mNew cache created: C:\\Users\\DIBYOJIT\\Downloads\\Drunk People Detection.v1i.yolov8\\valid\\labels.cache\n"
     ]
    },
    {
     "name": "stderr",
     "output_type": "stream",
     "text": [
      "\n"
     ]
    },
    {
     "name": "stdout",
     "output_type": "stream",
     "text": [
      "Plotting labels to C:\\Users\\DIBYOJIT\\YOLOv8-object_detection\\segment\\train4\\labels.jpg... \n",
      "\u001b[34m\u001b[1moptimizer:\u001b[0m 'optimizer=auto' found, ignoring 'lr0=0.01' and 'momentum=0.937' and determining best 'optimizer', 'lr0' and 'momentum' automatically... \n",
      "\u001b[34m\u001b[1moptimizer:\u001b[0m AdamW(lr=0.001, momentum=0.9) with parameter groups 86 weight(decay=0.0), 97 weight(decay=0.0005), 96 bias(decay=0.0)\n",
      "\u001b[34m\u001b[1mTensorBoard: \u001b[0mmodel graph visualization added ✅\n",
      "Image sizes 640 train, 640 val\n",
      "Using 0 dataloader workers\n",
      "Logging results to \u001b[1mC:\\Users\\DIBYOJIT\\YOLOv8-object_detection\\segment\\train4\u001b[0m\n",
      "Starting training for 10 epochs...\n",
      "Closing dataloader mosaic\n",
      "\n",
      "      Epoch    GPU_mem   box_loss   seg_loss   cls_loss   dfl_loss  Instances       Size\n"
     ]
    },
    {
     "name": "stderr",
     "output_type": "stream",
     "text": [
      "       1/10         0G     0.8621      2.844      4.943      1.311         43        640:  33%|███▎      | 1/3 [01:57<0"
     ]
    }
   ],
   "source": [
    "yolo.train(data= r'C:\\Users\\DIBYOJIT\\Downloads\\Drunk People Detection.v1i.yolov8\\data.yaml', epochs=10)"
   ]
  },
  {
   "cell_type": "code",
   "execution_count": 6,
   "id": "692fe5de",
   "metadata": {},
   "outputs": [],
   "source": [
    "from ultralytics import YOLO"
   ]
  },
  {
   "cell_type": "code",
   "execution_count": 7,
   "id": "5a055e15",
   "metadata": {},
   "outputs": [],
   "source": [
    "segment= YOLO(r' C:\\Users\\DIBYOJIT\\YOLOv8-object_detection\\segment\\train2\\weights\\best.pt')"
   ]
  },
  {
   "cell_type": "code",
   "execution_count": 8,
   "id": "3e0b5bad",
   "metadata": {},
   "outputs": [
    {
     "name": "stdout",
     "output_type": "stream",
     "text": [
      "\n",
      "image 1/1 C:\\Users\\DIBYOJIT\\Downloads\\Drunk People Detection.v1i.yolov8\\valid\\images\\drunk_mp4-0011_jpg.rf.39031544c45c2be2c723db5b0b88a668.jpg: 640x640 1 Naholi Sarkar, 2 Tushar Dass, 1 coca cola, 1127.5ms\n",
      "Speed: 9.0ms preprocess, 1127.5ms inference, 18.8ms postprocess per image at shape (1, 3, 640, 640)\n",
      "Results saved to \u001b[1mC:\\Users\\DIBYOJIT\\YOLOv8-object_detection\\segment\\predict6\u001b[0m\n"
     ]
    },
    {
     "data": {
      "text/plain": [
       "[ultralytics.engine.results.Results object with attributes:\n",
       " \n",
       " boxes: ultralytics.engine.results.Boxes object\n",
       " keypoints: None\n",
       " masks: ultralytics.engine.results.Masks object\n",
       " names: {0: 'Naholi Sarkar', 1: 'Skybag', 2: 'Sourav Dutta', 3: 'Tushar Das', 4: 'balti', 5: 'coca cola'}\n",
       " obb: None\n",
       " orig_img: array([[[ 3,  1,  1],\n",
       "         [ 3,  1,  1],\n",
       "         [ 3,  1,  1],\n",
       "         ...,\n",
       "         [12,  0,  0],\n",
       "         [12,  0,  0],\n",
       "         [12,  0,  0]],\n",
       " \n",
       "        [[10,  8,  8],\n",
       "         [10,  8,  8],\n",
       "         [10,  8,  8],\n",
       "         ...,\n",
       "         [13,  1,  1],\n",
       "         [13,  1,  1],\n",
       "         [13,  1,  1]],\n",
       " \n",
       "        [[ 4,  2,  2],\n",
       "         [ 4,  2,  2],\n",
       "         [ 4,  2,  2],\n",
       "         ...,\n",
       "         [ 9,  0,  0],\n",
       "         [ 9,  0,  0],\n",
       "         [ 9,  0,  0]],\n",
       " \n",
       "        ...,\n",
       " \n",
       "        [[ 6,  4,  3],\n",
       "         [ 6,  4,  3],\n",
       "         [ 5,  3,  2],\n",
       "         ...,\n",
       "         [ 0,  5,  4],\n",
       "         [ 0,  5,  4],\n",
       "         [ 0,  5,  4]],\n",
       " \n",
       "        [[ 0,  0,  0],\n",
       "         [ 0,  0,  0],\n",
       "         [ 0,  0,  0],\n",
       "         ...,\n",
       "         [ 0,  0,  0],\n",
       "         [ 0,  0,  0],\n",
       "         [ 0,  0,  0]],\n",
       " \n",
       "        [[ 0,  0,  1],\n",
       "         [ 0,  0,  1],\n",
       "         [ 0,  0,  1],\n",
       "         ...,\n",
       "         [ 0,  0,  0],\n",
       "         [ 0,  0,  0],\n",
       "         [ 0,  0,  0]]], dtype=uint8)\n",
       " orig_shape: (640, 640)\n",
       " path: 'C:\\\\Users\\\\DIBYOJIT\\\\Downloads\\\\Drunk People Detection.v1i.yolov8\\\\valid\\\\images\\\\drunk_mp4-0011_jpg.rf.39031544c45c2be2c723db5b0b88a668.jpg'\n",
       " probs: None\n",
       " save_dir: 'C:\\\\Users\\\\DIBYOJIT\\\\YOLOv8-object_detection\\\\segment\\\\predict6'\n",
       " speed: {'preprocess': 9.021997451782227, 'inference': 1127.526044845581, 'postprocess': 18.819808959960938}]"
      ]
     },
     "execution_count": 8,
     "metadata": {},
     "output_type": "execute_result"
    }
   ],
   "source": [
    "segment.predict(r'C:\\Users\\DIBYOJIT\\Downloads\\Drunk People Detection.v1i.yolov8\\valid\\images\\drunk_mp4-0011_jpg.rf.39031544c45c2be2c723db5b0b88a668.jpg', save=True, iou=0.01, conf=0.5)"
   ]
  }
 ],
 "metadata": {
  "kernelspec": {
   "display_name": "Python 3 (ipykernel)",
   "language": "python",
   "name": "python3"
  },
  "language_info": {
   "codemirror_mode": {
    "name": "ipython",
    "version": 3
   },
   "file_extension": ".py",
   "mimetype": "text/x-python",
   "name": "python",
   "nbconvert_exporter": "python",
   "pygments_lexer": "ipython3",
   "version": "3.9.17"
  }
 },
 "nbformat": 4,
 "nbformat_minor": 5
}
